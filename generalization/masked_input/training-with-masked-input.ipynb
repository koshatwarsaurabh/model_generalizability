{
 "cells": [
  {
   "cell_type": "markdown",
   "metadata": {},
   "source": [
    "# Trained With Masked Input\n",
    "\n",
    "Notebook written by Hans Walker and Marcin Abram (2022)."
   ]
  },
  {
   "cell_type": "markdown",
   "metadata": {},
   "source": [
    "## 1. Introduction\n",
    "\n",
    "### Motivation\n",
    "\n",
    "During the training, neural networks tend to first learn the most important relations between data features and observed outcomes. If the model capacity is large enough, with advancing training the network discovers and learns progressively more and more subtle relations. In this work, we test the following hypothesis. We believe that during the training, networks might overly relay on some particular, strong features. This overreliance might impair the robustness of the network and might hurt the overall accuracy, especially if some of the strong features turn to be spurious. By distributing the focus of the network over many different features during the training, we hope to improve the robustness of the final model.  \n",
    "\n",
    "### Approach\n",
    "\n",
    "The main idea is to mask the most important features during the training, forcing the model to focus on the remaining features. We measure the feature importance by looking at the direct gradient in each training step. The masks are not permanent and are re-evaluated in each epoch.\n",
    "\n",
    "\n",
    "### Scope of the Work\n",
    "\n",
    " 1. Introduction\n",
    " 2. Library Imports\n",
    " 3. Data Preprocessing\n",
    " 4. Data Masking Demonstration\n",
    " 5. Baseline Evaluation\n",
    " 6. Training With Masked Input\n",
    " 7. Discussion\n",
    " 8. Summary"
   ]
  },
  {
   "cell_type": "markdown",
   "metadata": {},
   "source": [
    "## 2. Library Imports\n",
    "\n",
    "We will pre-load all libraries that we will use in that notebook.\n",
    "\n",
    "The notebook was tested with python 3.8, CUDA 10.1 and with the following package versions:\n",
    "\n",
    "    Package                           Version\n",
    "    --------------------------------- ----------\n",
    "    numpy                             1.18.5\n",
    "    pandas                            1.1.5\n",
    "    scikit-image                      0.18.0\n",
    "    scikit-learn                      0.23.2\n",
    "    scipy                             1.4.1\n",
    "    tensorflow-gpu                    2.3.0\n",
    "    tensorflow-hub                    0.10.0"
   ]
  },
  {
   "cell_type": "code",
   "execution_count": 1,
   "metadata": {},
   "outputs": [],
   "source": [
    "import collections\n",
    "import random\n",
    "import sys\n",
    "import time\n",
    "\n",
    "import numpy\n",
    "import tensorflow\n",
    "import pandas\n",
    "\n",
    "# Graphic libraries\n",
    "import matplotlib\n",
    "from matplotlib import pyplot as plt\n",
    "%matplotlib inline"
   ]
  },
  {
   "cell_type": "markdown",
   "metadata": {},
   "source": [
    "## 3. Data Preprocessing"
   ]
  },
  {
   "cell_type": "code",
   "execution_count": 2,
   "metadata": {},
   "outputs": [],
   "source": [
    "\"\"\"Define global parameters.\"\"\"\n",
    "batch_size = 32"
   ]
  },
  {
   "cell_type": "code",
   "execution_count": 3,
   "metadata": {
    "scrolled": false
   },
   "outputs": [
    {
     "data": {
      "text/plain": [
       "(<BatchDataset shapes: ((None, 32, 32, 3), (None, 1)), types: (tf.float64, tf.uint8)>,\n",
       " <BatchDataset shapes: ((None, 32, 32, 3), (None, 1)), types: (tf.float64, tf.uint8)>)"
      ]
     },
     "execution_count": 3,
     "metadata": {},
     "output_type": "execute_result"
    }
   ],
   "source": [
    "\"\"\"Prepare datasets.\"\"\"\n",
    "(train_data, train_labels), (test_data, test_labels) = tensorflow.keras.datasets.cifar10.load_data()\n",
    "\n",
    "train_data = train_data/255.\n",
    "test_data = test_data/255.\n",
    "\n",
    "train_dataset = tensorflow.data.Dataset.from_tensor_slices((train_data, train_labels))\n",
    "train_dataset = train_dataset.shuffle(buffer_size=1024).batch(batch_size)\n",
    "test_dataset = tensorflow.data.Dataset.from_tensor_slices((test_data, test_labels))\n",
    "test_dataset = test_dataset.batch(batch_size)\n",
    "\n",
    "# sanity check\n",
    "assert train_data.min() >= 0\n",
    "assert train_data.max() <= 1\n",
    "\n",
    "# print shapes\n",
    "train_dataset, test_dataset"
   ]
  },
  {
   "cell_type": "code",
   "execution_count": 4,
   "metadata": {},
   "outputs": [
    {
     "data": {
      "text/plain": [
       "<matplotlib.image.AxesImage at 0x7f0ac3794be0>"
      ]
     },
     "execution_count": 4,
     "metadata": {},
     "output_type": "execute_result"
    },
    {
     "data": {
      "image/png": "[encoded data removed]",
      "text/plain": [
       "<Figure size 360x240 with 1 Axes>"
      ]
     },
     "metadata": {
      "needs_background": "light"
     },
     "output_type": "display_data"
    }
   ],
   "source": [
    "\"\"\"Plot example.\"\"\"\n",
    "plt.figure(dpi=60)\n",
    "plt.imshow(train_data[0], interpolation=None)"
   ]
  },
  {
   "cell_type": "markdown",
   "metadata": {},
   "source": [
    "## 4. Data Masking Demonstration"
   ]
  },
  {
   "cell_type": "code",
   "execution_count": 5,
   "metadata": {},
   "outputs": [],
   "source": [
    "def mask_data(data, gradients, n=1, height=32, width=32):\n",
    "    \"\"\"Mask Data.\n",
    "    \n",
    "    Proposed and first implemented by Hans Walker.\n",
    "    \n",
    "    WARNING: This only work if eager execution is enabled in tensorflow.\n",
    "    TODO: Try to re-write it so it is compatible with the graph execution in tensorflow.\n",
    "    \"\"\"\n",
    "    grad = tensorflow.cast(gradients, dtype=tensorflow.float32)  # without that there is a warning\n",
    "    line_grad = tensorflow.keras.layers.Flatten()(grad).numpy()\n",
    "    \n",
    "    # Getting the max (absolute) value index\n",
    "    max_index = numpy.argmax(line_grad, axis=1) # Why do you have abs?\n",
    "    \n",
    "    #The mask is applied to n pixels out from the center\n",
    "    #(so an 2n+1 by 2n+1 box) across all 3 color channels\n",
    "    mask = numpy.ones((len(data), height, width, 3))\n",
    "    for i, j in enumerate(max_index):\n",
    "        \n",
    "        #Converting the index gotten into an x,y index for the ith image\n",
    "        j %= (height*width)\n",
    "        column = j%width\n",
    "        row = j//width\n",
    "        \n",
    "        # Create a boolean mask\n",
    "        trunkate = lambda x: x if x>0 else 0\n",
    "        mask[i, trunkate(row-n):row+n+1, trunkate(column-n):column+n+1, :] = 0\n",
    "\n",
    "    return tensorflow.where(mask, data, tensorflow.zeros_like(data))"
   ]
  },
  {
   "cell_type": "code",
   "execution_count": 6,
   "metadata": {
    "scrolled": false
   },
   "outputs": [
    {
     "data": {
      "image/png": "[encoded data removed]",
      "text/plain": [
       "<Figure size 360x240 with 1 Axes>"
      ]
     },
     "metadata": {
      "needs_background": "light"
     },
     "output_type": "display_data"
    },
    {
     "data": {
      "image/png": "[encoded data removed]",
      "text/plain": [
       "<Figure size 360x240 with 1 Axes>"
      ]
     },
     "metadata": {
      "needs_background": "light"
     },
     "output_type": "display_data"
    },
    {
     "name": "stdout",
     "output_type": "stream",
     "text": [
      "CPU times: user 847 ms, sys: 435 ms, total: 1.28 s\n",
      "Wall time: 1.06 s\n"
     ]
    }
   ],
   "source": [
    "%%time\n",
    "\n",
    "def get_dummy_model():\n",
    "    \"\"\"Define and compile the smalles model compatible with the input and output of the problem.\"\"\"\n",
    "    model = tensorflow.keras.models.Sequential()\n",
    "    model.add(tensorflow.keras.layers.Flatten(input_shape=(32, 32, 3)))\n",
    "    model.add(tensorflow.keras.layers.Dense(10))\n",
    "    return model\n",
    "\n",
    "\n",
    "# Instantiate an optimizer.\n",
    "optimizer = tensorflow.keras.optimizers.Adam()\n",
    "\n",
    "# Instantiate a loss function.\n",
    "loss = tensorflow.keras.losses.SparseCategoricalCrossentropy(from_logits=True)\n",
    "\n",
    "# Prepare the metrics.\n",
    "train_acc_metric = tensorflow.keras.metrics.SparseCategoricalAccuracy()\n",
    "val_acc_metric = tensorflow.keras.metrics.SparseCategoricalAccuracy()\n",
    "\n",
    "# Prepare the model\n",
    "model = get_dummy_model()\n",
    "\n",
    "# Demonstrate the masking\n",
    "for x, y in train_dataset.take(1):\n",
    "    plt.figure(dpi=60)\n",
    "    plt.imshow(x[0])\n",
    "    plt.show()\n",
    "\n",
    "    with tensorflow.GradientTape() as tape:\n",
    "        tape.watch(x)\n",
    "        logits = model(x, training=False)\n",
    "        loss_value = loss(y, logits)\n",
    "    \n",
    "    grad = tape.gradient(loss_value, x)\n",
    "    v = mask_data(x, grad, n=5)\n",
    "    \n",
    "    plt.figure(dpi=60)\n",
    "    plt.imshow(v[0])\n",
    "    plt.show()"
   ]
  },
  {
   "cell_type": "markdown",
   "metadata": {},
   "source": [
    "## 5. Baseline Evaluation"
   ]
  },
  {
   "cell_type": "code",
   "execution_count": 7,
   "metadata": {},
   "outputs": [],
   "source": [
    "from tensorflow.keras.models import Sequential\n",
    "from tensorflow.keras.layers import Dense, Conv2D, MaxPooling2D, Dropout\n",
    "from tensorflow.keras.layers import Flatten, Activation\n",
    "\n",
    "\n",
    "def get_model():\n",
    "    \"\"\"Get a medium model.\"\"\"\n",
    "    model = Sequential()\n",
    "    model.add(Conv2D(32, (3, 3), strides=1, padding=\"same\", activation=\"relu\", input_shape=(32, 32, 3)))\n",
    "    model.add(Dropout(0.4))\n",
    "    model.add(Conv2D(32, (3, 3), strides=1, padding=\"same\", activation=\"relu\"))\n",
    "    model.add(Dropout(0.4))\n",
    "    model.add(MaxPooling2D((2, 2)))\n",
    "\n",
    "    model.add(Conv2D(64, (3, 3), strides=1, padding=\"same\", activation=\"relu\"))\n",
    "    model.add(Dropout(0.4))\n",
    "    model.add(Conv2D(64, (3, 3), strides=1, padding=\"same\", activation=\"relu\"))\n",
    "    model.add(Dropout(0.4))\n",
    "    model.add(MaxPooling2D((2, 2)))\n",
    "\n",
    "    model.add(Conv2D(128, (3, 3), strides=1, padding=\"same\", activation=\"relu\"))\n",
    "    model.add(Dropout(0.4))\n",
    "    model.add(Conv2D(128, (3, 3), strides=1, padding=\"same\", activation=\"relu\"))\n",
    "    model.add(Dropout(0.4))\n",
    "    model.add(MaxPooling2D((2, 2)))\n",
    "\n",
    "    model.add(Flatten())\n",
    "    model.add(Dense(10))\n",
    "    \n",
    "    return model"
   ]
  },
  {
   "cell_type": "code",
   "execution_count": 8,
   "metadata": {},
   "outputs": [
    {
     "name": "stdout",
     "output_type": "stream",
     "text": [
      "Model: \"sequential_1\"\n",
      "_________________________________________________________________\n",
      "Layer (type)                 Output Shape              Param #   \n",
      "=================================================================\n",
      "conv2d (Conv2D)              (None, 32, 32, 32)        896       \n",
      "_________________________________________________________________\n",
      "dropout (Dropout)            (None, 32, 32, 32)        0         \n",
      "_________________________________________________________________\n",
      "conv2d_1 (Conv2D)            (None, 32, 32, 32)        9248      \n",
      "_________________________________________________________________\n",
      "dropout_1 (Dropout)          (None, 32, 32, 32)        0         \n",
      "_________________________________________________________________\n",
      "max_pooling2d (MaxPooling2D) (None, 16, 16, 32)        0         \n",
      "_________________________________________________________________\n",
      "conv2d_2 (Conv2D)            (None, 16, 16, 64)        18496     \n",
      "_________________________________________________________________\n",
      "dropout_2 (Dropout)          (None, 16, 16, 64)        0         \n",
      "_________________________________________________________________\n",
      "conv2d_3 (Conv2D)            (None, 16, 16, 64)        36928     \n",
      "_________________________________________________________________\n",
      "dropout_3 (Dropout)          (None, 16, 16, 64)        0         \n",
      "_________________________________________________________________\n",
      "max_pooling2d_1 (MaxPooling2 (None, 8, 8, 64)          0         \n",
      "_________________________________________________________________\n",
      "conv2d_4 (Conv2D)            (None, 8, 8, 128)         73856     \n",
      "_________________________________________________________________\n",
      "dropout_4 (Dropout)          (None, 8, 8, 128)         0         \n",
      "_________________________________________________________________\n",
      "conv2d_5 (Conv2D)            (None, 8, 8, 128)         147584    \n",
      "_________________________________________________________________\n",
      "dropout_5 (Dropout)          (None, 8, 8, 128)         0         \n",
      "_________________________________________________________________\n",
      "max_pooling2d_2 (MaxPooling2 (None, 4, 4, 128)         0         \n",
      "_________________________________________________________________\n",
      "flatten_2 (Flatten)          (None, 2048)              0         \n",
      "_________________________________________________________________\n",
      "dense_1 (Dense)              (None, 10)                20490     \n",
      "=================================================================\n",
      "Total params: 307,498\n",
      "Trainable params: 307,498\n",
      "Non-trainable params: 0\n",
      "_________________________________________________________________\n"
     ]
    }
   ],
   "source": [
    "# Instantiate an optimizer.\n",
    "optimizer = tensorflow.keras.optimizers.Adam()\n",
    "\n",
    "# Instantiate a loss function.\n",
    "loss = tensorflow.keras.losses.SparseCategoricalCrossentropy(from_logits=True)\n",
    "\n",
    "# Prepare the metrics.\n",
    "train_acc_metric = tensorflow.keras.metrics.SparseCategoricalAccuracy()\n",
    "val_acc_metric = tensorflow.keras.metrics.SparseCategoricalAccuracy()\n",
    "\n",
    "# Prepare the model\n",
    "base_model = get_model()\n",
    "base_model.summary()"
   ]
  },
  {
   "cell_type": "code",
   "execution_count": 9,
   "metadata": {},
   "outputs": [],
   "source": [
    "@tensorflow.function\n",
    "def train_step(x, y):\n",
    "    \"\"\"Train step.\"\"\"\n",
    "    global base_model\n",
    "    model = base_model\n",
    "    \n",
    "    with tensorflow.GradientTape() as tape:\n",
    "        logits = model(x, training=True)\n",
    "        loss_value = loss(y, logits)\n",
    "    grads = tape.gradient(loss_value, model.trainable_weights)\n",
    "    optimizer.apply_gradients(zip(grads, model.trainable_weights))\n",
    "    train_acc_metric.update_state(y, logits)\n",
    "    return loss_value\n",
    "\n",
    "\n",
    "@tensorflow.function\n",
    "def test_step(x, y):\n",
    "    \"\"\"Test step.\"\"\"\n",
    "    global base_model\n",
    "    model = base_model\n",
    "    \n",
    "    val_logits = model(x, training=False)\n",
    "    val_acc_metric.update_state(y, val_logits)"
   ]
  },
  {
   "cell_type": "code",
   "execution_count": 10,
   "metadata": {
    "scrolled": false
   },
   "outputs": [
    {
     "name": "stdout",
     "output_type": "stream",
     "text": [
      "\n",
      "Start of epoch 0\n",
      "........\n",
      "Training acc over epoch: 0.4001\n",
      "Validation acc: 0.4589\n",
      "Time taken: 8.78s\n",
      "\n",
      "Start of epoch 1\n",
      "........\n",
      "Training acc over epoch: 0.5580\n",
      "Validation acc: 0.5450\n",
      "Time taken: 6.53s\n",
      "\n",
      "Start of epoch 2\n",
      "........\n",
      "Training acc over epoch: 0.6118\n",
      "Validation acc: 0.5792\n",
      "Time taken: 7.20s\n",
      "\n",
      "Start of epoch 3\n",
      "........\n",
      "Training acc over epoch: 0.6366\n",
      "Validation acc: 0.6357\n",
      "Time taken: 7.32s\n",
      "\n",
      "Start of epoch 4\n",
      "........\n",
      "Training acc over epoch: 0.6534\n",
      "Validation acc: 0.6306\n",
      "Time taken: 6.97s\n",
      "\n",
      "Start of epoch 5\n",
      "........\n",
      "Training acc over epoch: 0.6673\n",
      "Validation acc: 0.5911\n",
      "Time taken: 6.74s\n",
      "\n",
      "Start of epoch 6\n",
      "........\n",
      "Training acc over epoch: 0.6761\n",
      "Validation acc: 0.6556\n",
      "Time taken: 6.75s\n",
      "\n",
      "Start of epoch 7\n",
      "........\n",
      "Training acc over epoch: 0.6797\n",
      "Validation acc: 0.6272\n",
      "Time taken: 6.53s\n",
      "\n",
      "Start of epoch 8\n",
      "........\n",
      "Training acc over epoch: 0.6869\n",
      "Validation acc: 0.6628\n",
      "Time taken: 6.40s\n",
      "\n",
      "Start of epoch 9\n",
      "........\n",
      "Training acc over epoch: 0.6879\n",
      "Validation acc: 0.6887\n",
      "Time taken: 6.61s\n",
      "\n",
      "Start of epoch 10\n",
      "........\n",
      "Training acc over epoch: 0.6923\n",
      "Validation acc: 0.6498\n",
      "Time taken: 6.82s\n",
      "\n",
      "Start of epoch 11\n",
      "........\n",
      "Training acc over epoch: 0.6933\n",
      "Validation acc: 0.6415\n",
      "Time taken: 7.06s\n",
      "\n",
      "Start of epoch 12\n",
      "........\n",
      "Training acc over epoch: 0.6939\n",
      "Validation acc: 0.6759\n",
      "Time taken: 7.10s\n",
      "\n",
      "Start of epoch 13\n",
      "........\n",
      "Training acc over epoch: 0.6978\n",
      "Validation acc: 0.6524\n",
      "Time taken: 7.00s\n",
      "\n",
      "Start of epoch 14\n",
      "........\n",
      "Training acc over epoch: 0.6978\n",
      "Validation acc: 0.6611\n",
      "Time taken: 7.41s\n",
      "\n",
      "Start of epoch 15\n",
      "........\n",
      "Training acc over epoch: 0.6995\n",
      "Validation acc: 0.6804\n",
      "Time taken: 7.65s\n",
      "\n",
      "Start of epoch 16\n",
      "........\n",
      "Training acc over epoch: 0.6981\n",
      "Validation acc: 0.6655\n",
      "Time taken: 7.45s\n",
      "\n",
      "Start of epoch 17\n",
      "........\n",
      "Training acc over epoch: 0.6980\n",
      "Validation acc: 0.6696\n",
      "Time taken: 7.58s\n",
      "\n",
      "Start of epoch 18\n",
      "........\n",
      "Training acc over epoch: 0.7019\n",
      "Validation acc: 0.6839\n",
      "Time taken: 8.12s\n",
      "\n",
      "Start of epoch 19\n",
      "........\n",
      "Training acc over epoch: 0.6982\n",
      "Validation acc: 0.6575\n",
      "Time taken: 7.55s\n"
     ]
    }
   ],
   "source": [
    "base_model_log = []\n",
    "\n",
    "epochs = 20\n",
    "for epoch in range(epochs):\n",
    "    print(\"\\nStart of epoch %d\" % (epoch,))\n",
    "    start_time = time.time()\n",
    "\n",
    "    # Iterate over the batches of the dataset.\n",
    "    for step, (x_batch_train, y_batch_train) in enumerate(train_dataset):\n",
    "        loss_value = train_step(x_batch_train, y_batch_train)\n",
    "\n",
    "        # Log every 200 batches.\n",
    "        if step % 200 == 0:\n",
    "            print('.', end='')\n",
    "\n",
    "    # Display metrics at the end of each epoch.\n",
    "    train_acc = train_acc_metric.result()\n",
    "    print(\"\\nTraining acc over epoch: %.4f\" % (float(train_acc),))\n",
    "\n",
    "    # Reset training metrics at the end of each epoch\n",
    "    train_acc_metric.reset_states()\n",
    "\n",
    "    # Run a validation loop at the end of each epoch.\n",
    "    for x_batch_val, y_batch_val in test_dataset:\n",
    "        test_step(x_batch_val, y_batch_val)\n",
    "\n",
    "    val_acc = val_acc_metric.result()\n",
    "    val_acc_metric.reset_states()\n",
    "    print(\"Validation acc: %.4f\" % (float(val_acc),))\n",
    "    print(\"Time taken: %.2fs\" % (time.time() - start_time))\n",
    "    \n",
    "    base_model_log.append({'epoch': epoch, 'val_accuracy': val_acc})"
   ]
  },
  {
   "cell_type": "markdown",
   "metadata": {},
   "source": [
    "## 6. Training With Masked Input"
   ]
  },
  {
   "cell_type": "code",
   "execution_count": 11,
   "metadata": {},
   "outputs": [],
   "source": [
    "# Instantiate an optimizer.\n",
    "optimizer = tensorflow.keras.optimizers.Adam()\n",
    "\n",
    "# Instantiate a loss function.\n",
    "loss = tensorflow.keras.losses.SparseCategoricalCrossentropy(from_logits=True)\n",
    "\n",
    "# Prepare the metrics.\n",
    "train_acc_metric = tensorflow.keras.metrics.SparseCategoricalAccuracy()\n",
    "val_acc_metric = tensorflow.keras.metrics.SparseCategoricalAccuracy()\n",
    "\n",
    "# Prepare the model\n",
    "masked_model = get_model()"
   ]
  },
  {
   "cell_type": "code",
   "execution_count": 12,
   "metadata": {},
   "outputs": [],
   "source": [
    "#@tensorflow.function  # Unfortunately, we can not use it right now\n",
    "def train_step(x, y):\n",
    "    \"\"\"Train step.\"\"\"\n",
    "    global masked_model\n",
    "    model = masked_model\n",
    "    \n",
    "    # calculate the mask\n",
    "    with tensorflow.GradientTape() as tape:\n",
    "        tape.watch(x)\n",
    "        loss_value = model(x, training=False)\n",
    "    \n",
    "    # masking the data\n",
    "    grads = tape.gradient(loss_value, x)\n",
    "    x_masked = mask_data(x, grads, n=1)  \n",
    "    \n",
    "    # main training step\n",
    "    with tensorflow.GradientTape() as tape:\n",
    "        logits = model(x_masked, training=True)\n",
    "        loss_value = loss(y, logits)\n",
    "        \n",
    "    grads = tape.gradient(loss_value, model.trainable_weights)\n",
    "    optimizer.apply_gradients(zip(grads, model.trainable_weights))\n",
    "    train_acc_metric.update_state(y, logits)\n",
    "    \n",
    "    return loss_value\n",
    "\n",
    "\n",
    "#@tensorflow.function  # Unfortunately, we can not use it right now\n",
    "def test_step(x, y):\n",
    "    \"\"\"Test step.\"\"\"\n",
    "    global masked_model\n",
    "    model = masked_model\n",
    "    \n",
    "    val_logits = model(x, training=False)\n",
    "    val_acc_metric.update_state(y, val_logits)"
   ]
  },
  {
   "cell_type": "code",
   "execution_count": 13,
   "metadata": {
    "scrolled": false
   },
   "outputs": [
    {
     "name": "stdout",
     "output_type": "stream",
     "text": [
      "\n",
      "Start of epoch 0\n",
      "........Training acc over epoch: 0.3870\n",
      "Validation acc: 0.4357\n",
      "Time taken: 40.21s\n",
      "\n",
      "Start of epoch 1\n",
      "........Training acc over epoch: 0.5316\n",
      "Validation acc: 0.4839\n",
      "Time taken: 41.43s\n",
      "\n",
      "Start of epoch 2\n",
      "........Training acc over epoch: 0.5849\n",
      "Validation acc: 0.5359\n",
      "Time taken: 40.60s\n",
      "\n",
      "Start of epoch 3\n",
      "........Training acc over epoch: 0.6189\n",
      "Validation acc: 0.5954\n",
      "Time taken: 40.56s\n",
      "\n",
      "Start of epoch 4\n",
      "........Training acc over epoch: 0.6386\n",
      "Validation acc: 0.6283\n",
      "Time taken: 41.56s\n",
      "\n",
      "Start of epoch 5\n",
      "........Training acc over epoch: 0.6537\n",
      "Validation acc: 0.6200\n",
      "Time taken: 43.33s\n",
      "\n",
      "Start of epoch 6\n",
      "........Training acc over epoch: 0.6626\n",
      "Validation acc: 0.6269\n",
      "Time taken: 41.89s\n",
      "\n",
      "Start of epoch 7\n",
      "........Training acc over epoch: 0.6683\n",
      "Validation acc: 0.6311\n",
      "Time taken: 42.59s\n",
      "\n",
      "Start of epoch 8\n",
      "........Training acc over epoch: 0.6747\n",
      "Validation acc: 0.6305\n",
      "Time taken: 43.83s\n",
      "\n",
      "Start of epoch 9\n",
      "........Training acc over epoch: 0.6781\n",
      "Validation acc: 0.6378\n",
      "Time taken: 43.39s\n",
      "\n",
      "Start of epoch 10\n",
      "........Training acc over epoch: 0.6765\n",
      "Validation acc: 0.6384\n",
      "Time taken: 44.37s\n",
      "\n",
      "Start of epoch 11\n",
      "........Training acc over epoch: 0.6810\n",
      "Validation acc: 0.6396\n",
      "Time taken: 47.99s\n",
      "\n",
      "Start of epoch 12\n",
      "........Training acc over epoch: 0.6859\n",
      "Validation acc: 0.6824\n",
      "Time taken: 55.00s\n",
      "\n",
      "Start of epoch 13\n",
      "........Training acc over epoch: 0.6851\n",
      "Validation acc: 0.6615\n",
      "Time taken: 56.16s\n",
      "\n",
      "Start of epoch 14\n",
      "........Training acc over epoch: 0.6866\n",
      "Validation acc: 0.6389\n",
      "Time taken: 47.84s\n",
      "\n",
      "Start of epoch 15\n",
      "........Training acc over epoch: 0.6868\n",
      "Validation acc: 0.6702\n",
      "Time taken: 42.92s\n",
      "\n",
      "Start of epoch 16\n",
      "........Training acc over epoch: 0.6880\n",
      "Validation acc: 0.6807\n",
      "Time taken: 42.80s\n",
      "\n",
      "Start of epoch 17\n",
      "........Training acc over epoch: 0.6884\n",
      "Validation acc: 0.6541\n",
      "Time taken: 42.01s\n",
      "\n",
      "Start of epoch 18\n",
      "........Training acc over epoch: 0.6915\n",
      "Validation acc: 0.6634\n",
      "Time taken: 42.03s\n",
      "\n",
      "Start of epoch 19\n",
      "........Training acc over epoch: 0.6891\n",
      "Validation acc: 0.6887\n",
      "Time taken: 40.41s\n"
     ]
    }
   ],
   "source": [
    "masked_model_log = []\n",
    "\n",
    "epochs = 20\n",
    "for epoch in range(epochs):\n",
    "    print(\"\\nStart of epoch %d\" % (epoch,))\n",
    "    start_time = time.time()\n",
    "\n",
    "    # Iterate over the batches of the dataset.\n",
    "    for step, (x_batch_train, y_batch_train) in enumerate(train_dataset):\n",
    "        loss_value = train_step(x_batch_train, y_batch_train)\n",
    "\n",
    "        # Log every 200 batches.\n",
    "        if step % 200 == 0:\n",
    "            print('.', end='')\n",
    "\n",
    "    # Display metrics at the end of each epoch.\n",
    "    train_acc = train_acc_metric.result()\n",
    "    print(\"Training acc over epoch: %.4f\" % (float(train_acc),))\n",
    "\n",
    "    # Reset training metrics at the end of each epoch\n",
    "    train_acc_metric.reset_states()\n",
    "\n",
    "    # Run a validation loop at the end of each epoch.\n",
    "    for x_batch_val, y_batch_val in test_dataset:\n",
    "        test_step(x_batch_val, y_batch_val)\n",
    "\n",
    "    val_acc = val_acc_metric.result()\n",
    "    val_acc_metric.reset_states()\n",
    "    print(\"Validation acc: %.4f\" % (float(val_acc),))\n",
    "    print(\"Time taken: %.2fs\" % (time.time() - start_time))\n",
    "    \n",
    "    masked_model_log.append({'epoch': epoch, 'val_accuracy': val_acc})"
   ]
  },
  {
   "cell_type": "code",
   "execution_count": 14,
   "metadata": {
    "scrolled": false
   },
   "outputs": [
    {
     "data": {
      "image/png": "[encoded data removed]",
      "text/plain": [
       "<Figure size 600x400 with 1 Axes>"
      ]
     },
     "metadata": {
      "needs_background": "light"
     },
     "output_type": "display_data"
    }
   ],
   "source": [
    "\"\"\"Summary.\"\"\"\n",
    "plt.figure(dpi=100)\n",
    "\n",
    "x = numpy.linspace(1, 20, 20)\n",
    "plt.plot(x, [y['val_accuracy'] for y in base_model_log], '.-', color='black', label='Baseline')\n",
    "plt.plot(x, [y['val_accuracy'] for y in masked_model_log], '.-', color='tab:red', label='Masked n=1')\n",
    "\n",
    "plt.ylabel('accuracy')\n",
    "plt.xlabel('epoch')\n",
    "plt.xlim([1, 20])\n",
    "plt.ylim([0.3, 1.0])\n",
    "plt.grid()\n",
    "plt.legend()\n",
    "plt.show()"
   ]
  },
  {
   "cell_type": "markdown",
   "metadata": {},
   "source": [
    "**Interpretation:** During the training we masked the input using 3x3 patches. It seems there is no statistical difference between the baseline and the tested approach. Both models train with similar rate, and after 20 epoches, they reach similar accuracy of about `0.68`. In this one run, it seems like the training with masked input might increase the stability of the training (the red line in the first 10 epoches is almost always monotonically increasing, while the black one oscillates). However, we can not say for sure observing just one run - we would have to repeat this experiment several times to test this hypothesis."
   ]
  },
  {
   "cell_type": "markdown",
   "metadata": {},
   "source": [
    "## 7. Discussion\n",
    "\n",
    "It seems like the effect of input masking on training is rather small. The model can recover the missing information and achieve similar accuracy to the baseline approach. Note, that we used a heavily regularized model (40% dropout after each convolution). Masked input can also work as an implicit regularization. Maybe the gain that we had observed previously was related to regularization (meaning, that a simple model without dropout trained on masked input overperforms a baseline model without dropout; however, adding dropout, we close that gap).\n"
   ]
  },
  {
   "cell_type": "markdown",
   "metadata": {},
   "source": [
    "## 8. Summary\n",
    "\n",
    "Further tests are needed before we will be able to write the final conclusions."
   ]
  }
 ],
 "metadata": {
  "kernelspec": {
   "display_name": "Python 3",
   "language": "python",
   "name": "python3"
  },
  "language_info": {
   "codemirror_mode": {
    "name": "ipython",
    "version": 3
   },
   "file_extension": ".py",
   "mimetype": "text/x-python",
   "name": "python",
   "nbconvert_exporter": "python",
   "pygments_lexer": "ipython3",
   "version": "3.8.10"
  }
 },
 "nbformat": 4,
 "nbformat_minor": 4
}
