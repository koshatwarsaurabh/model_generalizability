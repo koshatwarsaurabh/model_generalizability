{
  "cells": [
    {
      "cell_type": "code",
      "execution_count": null,
      "metadata": {
        "id": "kkCnG5JBrrvK"
      },
      "outputs": [],
      "source": [
        "import tensorflow as tf\n",
        "from tensorflow.keras import datasets, layers, models\n",
        "from tensorflow.keras.utils import to_categorical\n",
        "import matplotlib.pyplot as plt"
      ]
    },
    {
      "cell_type": "code",
      "execution_count": null,
      "metadata": {
        "colab": {
          "base_uri": "https://localhost:8080/"
        },
        "id": "ku66Y71sryvy",
        "outputId": "286638b3-2127-4517-c5da-5cb8dbc6e40e"
      },
      "outputs": [
        {
          "name": "stdout",
          "output_type": "stream",
          "text": [
            "Mounted at /content/drive/\n"
          ]
        }
      ],
      "source": [
        "from google.colab import drive\n",
        "drive.mount(\"/content/drive/\")"
      ]
    },
    {
      "cell_type": "code",
      "execution_count": null,
      "metadata": {
        "colab": {
          "base_uri": "https://localhost:8080/"
        },
        "id": "8wQojQkBrzYh",
        "outputId": "3aec4632-9610-4bdf-88e1-88dd8ea78250"
      },
      "outputs": [
        {
          "name": "stdout",
          "output_type": "stream",
          "text": [
            "Downloading data from https://storage.googleapis.com/tensorflow/tf-keras-datasets/train-labels-idx1-ubyte.gz\n",
            "32768/29515 [=================================] - 0s 0us/step\n",
            "40960/29515 [=========================================] - 0s 0us/step\n",
            "Downloading data from https://storage.googleapis.com/tensorflow/tf-keras-datasets/train-images-idx3-ubyte.gz\n",
            "26427392/26421880 [==============================] - 0s 0us/step\n",
            "26435584/26421880 [==============================] - 0s 0us/step\n",
            "Downloading data from https://storage.googleapis.com/tensorflow/tf-keras-datasets/t10k-labels-idx1-ubyte.gz\n",
            "16384/5148 [===============================================================================================] - 0s 0us/step\n",
            "Downloading data from https://storage.googleapis.com/tensorflow/tf-keras-datasets/t10k-images-idx3-ubyte.gz\n",
            "4423680/4422102 [==============================] - 0s 0us/step\n",
            "4431872/4422102 [==============================] - 0s 0us/step\n"
          ]
        }
      ],
      "source": [
        "# load dataset\n",
        "(train_images, train_labels), (test_images, test_labels) = datasets.fashion_mnist.load_data()\n",
        "\n",
        "train_images = train_images.reshape((train_images.shape[0], 28, 28, 1))\n",
        "test_images = test_images.reshape((test_images.shape[0], 28, 28, 1))\n",
        "\n",
        "# Normalize pixel values to be between 0 and 1\n",
        "train_images = train_images.astype('float32') / 255\n",
        "test_images = test_images.astype('float32') / 255"
      ]
    },
    {
      "cell_type": "code",
      "execution_count": null,
      "metadata": {
        "id": "WIfgOUeDrzbR"
      },
      "outputs": [],
      "source": [
        "train_labels = to_categorical(train_labels)\n",
        "test_labels = to_categorical(test_labels)"
      ]
    },
    {
      "cell_type": "code",
      "execution_count": null,
      "metadata": {
        "colab": {
          "base_uri": "https://localhost:8080/"
        },
        "id": "UP3tpPNTrzeB",
        "outputId": "aafa364b-351f-428a-e764-44012005a3f1"
      },
      "outputs": [
        {
          "name": "stdout",
          "output_type": "stream",
          "text": [
            "(60000, 28, 28, 1) (10000, 28, 28, 1) (60000, 10)\n"
          ]
        }
      ],
      "source": [
        "print(train_images.shape, test_images.shape,train_labels.shape)"
      ]
    },
    {
      "cell_type": "code",
      "execution_count": null,
      "metadata": {
        "id": "q-jSUwV2rzgk"
      },
      "outputs": [],
      "source": [
        "# model = models.Sequential()\n",
        "# model.add(layers.Conv2D(32, (3, 3), activation='relu',input_shape=(28, 28, 1)))\n",
        "# model.add(layers.MaxPooling2D((2, 2)))\n",
        "# model.add(layers.Flatten())\n",
        "# model.add(layers.Dropout(0.3))\n",
        "# model.add(layers.Dense(64, activation='relu'))\n",
        "# model.add(layers.Dense(10, activation = 'softmax'))"
      ]
    },
    {
      "cell_type": "code",
      "execution_count": null,
      "metadata": {
        "id": "bt14C0nC50bi"
      },
      "outputs": [],
      "source": [
        "#wide\n",
        "model = models.Sequential()\n",
        "model.add(layers.Conv2D(512, (3, 3), activation='relu', input_shape=(28, 28, 1)))\n",
        "model.add(layers.MaxPooling2D((2, 2)))\n",
        "model.add(layers.Conv2D(512, (3, 3), activation='relu'))\n",
        "model.add(layers.MaxPooling2D((2, 2)))\n",
        "model.add(layers.Dropout(0.2))\n",
        "model.add(layers.Conv2D(512, (3, 3), activation='relu'))\n",
        "model.add(layers.MaxPooling2D((2, 2)))\n",
        "model.add(layers.Flatten())\n",
        "model.add(layers.Dropout(0.2))\n",
        "model.add(layers.Dense(256, activation='relu'))\n",
        "model.add(layers.Dense(10, activation = 'softmax'))"
      ]
    },
    {
      "cell_type": "code",
      "execution_count": null,
      "metadata": {
        "id": "TYwuhBOY6Xxs"
      },
      "outputs": [],
      "source": [
        "# #depth\n",
        "# model = models.Sequential()\n",
        "# model.add(layers.Conv2D(128, (2,2), activation='relu',input_shape=(28, 28, 1)))\n",
        "# model.add(layers.MaxPooling2D((2, 2),padding='same'))\n",
        "# model.add(layers.Conv2D(128, (2, 2),activation='relu'))\n",
        "# model.add(layers.MaxPooling2D((2, 2),padding='same'))\n",
        "# model.add(layers.Dropout(0.2))\n",
        "# model.add(layers.Conv2D(64, (2, 2), activation='relu'))\n",
        "# model.add(layers.MaxPooling2D((1, 1),padding='same'))\n",
        "# model.add(layers.Conv2D(64, (2, 2), activation='relu'))\n",
        "# model.add(layers.MaxPooling2D((1, 1),padding='same'))\n",
        "# model.add(layers.Dropout(0.2))\n",
        "# model.add(layers.Conv2D(32, (2, 2), activation='relu'))\n",
        "# model.add(layers.MaxPooling2D((1, 1),padding='same'))\n",
        "# model.add(layers.Conv2D(32, (2, 2), activation='relu'))\n",
        "# model.add(layers.MaxPooling2D((1, 1)))\n",
        "# model.add(layers.Dropout(0.2))\n",
        "# model.add(layers.Conv2D(32, (2, 2), activation='relu'))\n",
        "# model.add(layers.MaxPooling2D((1, 1)))\n",
        "# model.add(layers.Conv2D(32, (2, 2), activation='relu'))\n",
        "# model.add(layers.MaxPooling2D((1, 1)))\n",
        "# model.add(layers.Flatten())\n",
        "# model.add(layers.Dropout(0.2))\n",
        "# model.add(layers.Dense(64, activation='relu'))\n",
        "# model.add(layers.Dense(10, activation = 'softmax'))"
      ]
    },
    {
      "cell_type": "code",
      "execution_count": null,
      "metadata": {
        "colab": {
          "base_uri": "https://localhost:8080/"
        },
        "id": "wf8WIYIzrzjC",
        "outputId": "63d43f91-8516-461a-f8d3-d83411d26c43"
      },
      "outputs": [
        {
          "name": "stdout",
          "output_type": "stream",
          "text": [
            "Model: \"sequential_28\"\n",
            "_________________________________________________________________\n",
            " Layer (type)                Output Shape              Param #   \n",
            "=================================================================\n",
            " conv2d_135 (Conv2D)         (None, 26, 26, 512)       5120      \n",
            "                                                                 \n",
            " max_pooling2d_126 (MaxPooli  (None, 13, 13, 512)      0         \n",
            " ng2D)                                                           \n",
            "                                                                 \n",
            " conv2d_136 (Conv2D)         (None, 11, 11, 512)       2359808   \n",
            "                                                                 \n",
            " max_pooling2d_127 (MaxPooli  (None, 5, 5, 512)        0         \n",
            " ng2D)                                                           \n",
            "                                                                 \n",
            " dropout_56 (Dropout)        (None, 5, 5, 512)         0         \n",
            "                                                                 \n",
            " conv2d_137 (Conv2D)         (None, 3, 3, 512)         2359808   \n",
            "                                                                 \n",
            " max_pooling2d_128 (MaxPooli  (None, 1, 1, 512)        0         \n",
            " ng2D)                                                           \n",
            "                                                                 \n",
            " flatten_7 (Flatten)         (None, 512)               0         \n",
            "                                                                 \n",
            " dropout_57 (Dropout)        (None, 512)               0         \n",
            "                                                                 \n",
            " dense_14 (Dense)            (None, 256)               131328    \n",
            "                                                                 \n",
            " dense_15 (Dense)            (None, 10)                2570      \n",
            "                                                                 \n",
            "=================================================================\n",
            "Total params: 4,858,634\n",
            "Trainable params: 4,858,634\n",
            "Non-trainable params: 0\n",
            "_________________________________________________________________\n"
          ]
        }
      ],
      "source": [
        "model.summary()"
      ]
    },
    {
      "cell_type": "code",
      "execution_count": null,
      "metadata": {
        "id": "8gSZzIAhsYHZ"
      },
      "outputs": [],
      "source": [
        "model.compile(loss='categorical_crossentropy',\n",
        "             optimizer='adam',\n",
        "             metrics=['accuracy'])"
      ]
    },
    {
      "cell_type": "code",
      "execution_count": null,
      "metadata": {
        "colab": {
          "background_save": true,
          "base_uri": "https://localhost:8080/"
        },
        "id": "U257OPzxsYJ4",
        "outputId": "5f6360f3-c141-4e1a-84a8-431564371614"
      },
      "outputs": [
        {
          "name": "stdout",
          "output_type": "stream",
          "text": [
            "Epoch 1/25\n",
            "469/469 [==============================] - 155s 326ms/step - loss: 0.5687 - accuracy: 0.7907 - val_loss: 0.4232 - val_accuracy: 0.8488\n",
            "Epoch 2/25\n",
            "469/469 [==============================] - 358s 763ms/step - loss: 0.3659 - accuracy: 0.8653 - val_loss: 0.3388 - val_accuracy: 0.8712\n",
            "Epoch 3/25\n",
            "469/469 [==============================] - 612s 1s/step - loss: 0.3107 - accuracy: 0.8838 - val_loss: 0.3056 - val_accuracy: 0.8860\n",
            "Epoch 4/25\n",
            "469/469 [==============================] - 322s 687ms/step - loss: 0.2798 - accuracy: 0.8949 - val_loss: 0.2951 - val_accuracy: 0.8911\n",
            "Epoch 5/25\n",
            "469/469 [==============================] - 188s 401ms/step - loss: 0.2488 - accuracy: 0.9066 - val_loss: 0.3274 - val_accuracy: 0.8783\n",
            "Epoch 6/25\n",
            "469/469 [==============================] - 613s 1s/step - loss: 0.2277 - accuracy: 0.9141 - val_loss: 0.3161 - val_accuracy: 0.8890\n",
            "Epoch 7/25\n",
            "469/469 [==============================] - 605s 1s/step - loss: 0.2066 - accuracy: 0.9230 - val_loss: 0.3153 - val_accuracy: 0.8899\n",
            "Epoch 8/25\n",
            "469/469 [==============================] - 610s 1s/step - loss: 0.1926 - accuracy: 0.9279 - val_loss: 0.2842 - val_accuracy: 0.8992\n",
            "Epoch 9/25\n",
            "469/469 [==============================] - 613s 1s/step - loss: 0.1756 - accuracy: 0.9324 - val_loss: 0.2856 - val_accuracy: 0.9004\n",
            "Epoch 10/25\n",
            "469/469 [==============================] - 609s 1s/step - loss: 0.1592 - accuracy: 0.9397 - val_loss: 0.2932 - val_accuracy: 0.9011\n",
            "Epoch 11/25\n",
            "469/469 [==============================] - 612s 1s/step - loss: 0.1464 - accuracy: 0.9444 - val_loss: 0.3136 - val_accuracy: 0.9013\n",
            "Epoch 12/25\n",
            "469/469 [==============================] - 614s 1s/step - loss: 0.1368 - accuracy: 0.9478 - val_loss: 0.2889 - val_accuracy: 0.9072\n",
            "Epoch 13/25\n",
            "469/469 [==============================] - 609s 1s/step - loss: 0.1250 - accuracy: 0.9522 - val_loss: 0.3364 - val_accuracy: 0.8968\n",
            "Epoch 14/25\n",
            "469/469 [==============================] - 612s 1s/step - loss: 0.1160 - accuracy: 0.9562 - val_loss: 0.3170 - val_accuracy: 0.9031\n",
            "Epoch 15/25\n",
            "469/469 [==============================] - 611s 1s/step - loss: 0.1104 - accuracy: 0.9584 - val_loss: 0.3297 - val_accuracy: 0.9092\n",
            "Epoch 16/25\n",
            "469/469 [==============================] - 612s 1s/step - loss: 0.1033 - accuracy: 0.9606 - val_loss: 0.3447 - val_accuracy: 0.9071\n",
            "Epoch 17/25\n",
            "469/469 [==============================] - 608s 1s/step - loss: 0.0943 - accuracy: 0.9639 - val_loss: 0.3584 - val_accuracy: 0.8992\n",
            "Epoch 18/25\n",
            " 27/469 [>.............................] - ETA: 10:06 - loss: 0.0767 - accuracy: 0.9688"
          ]
        }
      ],
      "source": [
        "checkpoint = tf.keras.callbacks.ModelCheckpoint('/content/drive/My Drive/ckids/tf-model-depth/models/model{epoch:03d}.h5', save_freq=1) \n",
        "\n",
        "history = model.fit(train_images, \n",
        "          train_labels,\n",
        "          batch_size=128,\n",
        "          epochs=25, \n",
        "          callbacks=[checkpoint],\n",
        "          validation_data=(test_images,test_labels))"
      ]
    },
    {
      "cell_type": "code",
      "execution_count": null,
      "metadata": {
        "colab": {
          "base_uri": "https://localhost:8080/",
          "height": 283
        },
        "id": "1-tiATFk2l99",
        "outputId": "474cec00-c5f3-4537-d467-9fb6ca8d451d"
      },
      "outputs": [
        {
          "data": {
            "image/png": "[encoded data removed]",
            "text/plain": [
              "<Figure size 432x288 with 1 Axes>"
            ]
          },
          "metadata": {},
          "output_type": "display_data"
        }
      ],
      "source": [
        "plt.plot(history.history['accuracy'], label='accuracy')\n",
        "plt.plot(history.history['val_accuracy'], label = 'val_accuracy')\n",
        "plt.xlabel('Epoch')\n",
        "plt.ylabel('Accuracy')\n",
        "plt.ylim([0.5, 1])\n",
        "plt.legend(loc='lower right')\n",
        "plt.savefig('/content/drive/My Drive/ckids/tf-model-depth/models/acc.png')"
      ]
    },
    {
      "cell_type": "code",
      "execution_count": null,
      "metadata": {
        "colab": {
          "base_uri": "https://localhost:8080/",
          "height": 279
        },
        "id": "Wr3_TROA3usj",
        "outputId": "e1f0dd15-b430-4365-f324-cb7d37ed9853"
      },
      "outputs": [
        {
          "data": {
            "image/png": "[encoded data removed]",
            "text/plain": [
              "<Figure size 432x288 with 1 Axes>"
            ]
          },
          "metadata": {},
          "output_type": "display_data"
        }
      ],
      "source": [
        "plt.plot(history.history['loss'], label='los')\n",
        "plt.plot(history.history['val_loss'], label = 'val_loss')\n",
        "plt.xlabel('Epoch')\n",
        "plt.ylabel('Loss')\n",
        "plt.legend(loc='lower right')\n",
        "plt.savefig('/content/drive/My Drive/ckids/tf-model-depth/models/loss.png')"
      ]
    },
    {
      "cell_type": "code",
      "execution_count": null,
      "metadata": {
        "id": "qy11JEPWv79M"
      },
      "outputs": [],
      "source": [
        "#depth\n",
        "model = models.Sequential()\n",
        "model.add(layers.Conv2D(512, (3, 3), activation='relu', input_shape=(28, 28, 1)))\n",
        "model.add(layers.MaxPooling2D((2, 2)))\n",
        "model.add(layers.Conv2D(256, (3, 3), activation='relu'))\n",
        "model.add(layers.MaxPooling2D((2, 2)))\n",
        "model.add(layers.Dropout(0.2))\n",
        "model.add(layers.Conv2D(128, (3, 3), activation='relu'))\n",
        "model.add(layers.MaxPooling2D((2, 2)))\n",
        "model.add(layers.Conv2D(64, (3, 3), activation='relu'))\n",
        "model.add(layers.MaxPooling2D((2, 2)))\n",
        "model.add(layers.Dropout(0.2))\n",
        "model.add(layers.Conv2D(64, (3, 3), activation='relu'))\n",
        "model.add(layers.MaxPooling2D((2, 2)))\n",
        "model.add(layers.Conv2D(32, (3, 3), activation='relu'))\n",
        "model.add(layers.MaxPooling2D((2, 2)))\n",
        "model.add(layers.Flatten())\n",
        "model.add(layers.Dropout(0.2))\n",
        "model.add(layers.Dense(64, activation='relu'))\n",
        "model.add(layers.Dense(10, activation = 'softmax'))"
      ]
    },
    {
      "cell_type": "code",
      "execution_count": null,
      "metadata": {
        "id": "1SS7ENGesYMY"
      },
      "outputs": [],
      "source": [
        "\n",
        "tf.keras.utils.plot_model(model, to_file=dot_img_file, show_shapes=True)"
      ]
    }
  ],
  "metadata": {
    "accelerator": "GPU",
    "colab": {
      "name": "tf-model-loss.ipynb",
      "provenance": []
    },
    "kernelspec": {
      "display_name": "Python 3",
      "name": "python3"
    },
    "language_info": {
      "name": "python"
    }
  },
  "nbformat": 4,
  "nbformat_minor": 0
}